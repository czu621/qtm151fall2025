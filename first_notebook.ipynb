{
 "cells": [
  {
   "cell_type": "markdown",
   "id": "a4c10f91",
   "metadata": {},
   "source": [
    "<span style=\"font-size:40px;\">This is my first Jupyter notebook.</span>"
   ]
  },
  {
   "cell_type": "code",
   "execution_count": 1,
   "id": "15df674b",
   "metadata": {},
   "outputs": [
    {
     "name": "stdout",
     "output_type": "stream",
     "text": [
      "My name is Caroline Zu\n"
     ]
    }
   ],
   "source": [
    "print(\"My name is Caroline Zu\")"
   ]
  },
  {
   "cell_type": "code",
   "execution_count": null,
   "id": "b56deae2",
   "metadata": {},
   "outputs": [],
   "source": []
  }
 ],
 "metadata": {
  "kernelspec": {
   "display_name": "base",
   "language": "python",
   "name": "python3"
  },
  "language_info": {
   "codemirror_mode": {
    "name": "ipython",
    "version": 3
   },
   "file_extension": ".py",
   "mimetype": "text/x-python",
   "name": "python",
   "nbconvert_exporter": "python",
   "pygments_lexer": "ipython3",
   "version": "3.13.5"
  }
 },
 "nbformat": 4,
 "nbformat_minor": 5
}
